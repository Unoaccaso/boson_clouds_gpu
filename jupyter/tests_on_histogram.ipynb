{
 "cells": [
  {
   "cell_type": "code",
   "execution_count": 1,
   "metadata": {},
   "outputs": [
    {
     "name": "stdout",
     "output_type": "stream",
     "text": [
      "The autoreload extension is already loaded. To reload it, use:\n",
      "  %reload_ext autoreload\n"
     ]
    }
   ],
   "source": [
    "%load_ext autoreload\n",
    "import warnings\n",
    "warnings.filterwarnings('ignore')"
   ]
  },
  {
   "cell_type": "code",
   "execution_count": 4,
   "metadata": {},
   "outputs": [
    {
     "name": "stdout",
     "output_type": "stream",
     "text": [
      "58.9 ms ± 50.9 µs per loop (mean ± std. dev. of 7 runs, 10 loops each)\n"
     ]
    }
   ],
   "source": [
    "%autoreload 2\n",
    "# 10/12/2023 - NEW (2 days of optimization) COMPUTATION WITH MASK ON GPU\n",
    "%timeit %run ../src/boson_cloud_gpu/main.py"
   ]
  },
  {
   "cell_type": "code",
   "execution_count": 9,
   "metadata": {},
   "outputs": [
    {
     "name": "stdout",
     "output_type": "stream",
     "text": [
      "(657, 125)\n"
     ]
    },
    {
     "data": {
      "text/plain": [
       "array([[2., 2., 2., ..., 2., 2., 2.],\n",
       "       [2., 2., 2., ..., 2., 2., 2.],\n",
       "       [2., 2., 2., ..., 2., 2., 2.],\n",
       "       ...,\n",
       "       [2., 2., 2., ..., 2., 2., 2.],\n",
       "       [2., 2., 2., ..., 2., 2., 2.],\n",
       "       [2., 2., 2., ..., 2., 2., 2.]], dtype=float32)"
      ]
     },
     "execution_count": 9,
     "metadata": {},
     "output_type": "execute_result"
    }
   ],
   "source": [
    "import cupy\n",
    "\n",
    "_preprocessing_module = r\"\"\"\n",
    "extern \"C\"{\n",
    "    #define G 6.6743e-11\n",
    "    #define c 299792458.0\n",
    "    #define hbar 1.0545718176461565e-34\n",
    "    #define m_sun 1.988409870698051e+30\n",
    "    #define om0 7.27220521664304e-05\n",
    "    #define r0 5.5e6\n",
    "    #define onev 1.60217653e-19\n",
    "    #define f_int 1e30\n",
    "    #define duty 0.7\n",
    "    #define t_obs 365 * 86400 * duty\n",
    "    #define NAN 0.0/0.0\n",
    "\n",
    "    __global__ void alpha(\n",
    "        const float* bh_mass,\n",
    "        const float* boson_mass,\n",
    "        const int nrows,\n",
    "        const int ncols,\n",
    "        float* _alpha\n",
    "    ){  \n",
    "        int x_abs = threadIdx.x + blockDim.x * blockIdx.x;\n",
    "        int y_abs = threadIdx.y + blockDim.y * blockIdx.y;\n",
    "        \n",
    "        if ((x_abs < ncols) && (y_abs < nrows)){\n",
    "            _alpha[x_abs + ncols * y_abs] = bh_mass[x_abs] + boson_mass[y_abs];\n",
    "        }\n",
    "    }\n",
    "}\n",
    "\"\"\"\n",
    "\n",
    "preprocessing_module = cupy.RawModule(code=_preprocessing_module)\n",
    "alpha_kernel = preprocessing_module.get_function(\"alpha\")\n",
    "\n",
    "\n",
    "def dispatch_kernel(kernel, n_rows: int, n_cols: int, *args):\n",
    "    block_size = (\n",
    "        32,\n",
    "        8,\n",
    "    )\n",
    "\n",
    "    grid_x = n_cols // block_size[0]\n",
    "    if (n_cols % block_size[0]) != 0:\n",
    "        grid_x += 1\n",
    "    grid_y = n_rows // block_size[1]\n",
    "    if (n_rows % block_size[1]) != 0:\n",
    "        grid_y += 1\n",
    "\n",
    "    grid_size = (\n",
    "        grid_x,\n",
    "        grid_y,\n",
    "    )\n",
    "    print(grid_size)\n",
    "\n",
    "    out_var = cupy.zeros((n_rows, n_cols), dtype=cupy.float32)\n",
    "    kernel(grid_size, block_size, args + (n_rows, n_cols, out_var))\n",
    "\n",
    "    return out_var\n",
    "\n",
    "n_rows = 1_000\n",
    "n_cols = 21_000\n",
    "boson_mass = cupy.ones(n_rows, dtype=cupy.float32)\n",
    "bh_mass = cupy.ones(n_cols, dtype=cupy.float32)\n",
    "dispatch_kernel(alpha_kernel, n_rows, n_cols, bh_mass, boson_mass)"
   ]
  }
 ],
 "metadata": {
  "kernelspec": {
   "display_name": "bc-gpu",
   "language": "python",
   "name": "python3"
  },
  "language_info": {
   "codemirror_mode": {
    "name": "ipython",
    "version": 3
   },
   "file_extension": ".py",
   "mimetype": "text/x-python",
   "name": "python",
   "nbconvert_exporter": "python",
   "pygments_lexer": "ipython3",
   "version": "3.11.5"
  }
 },
 "nbformat": 4,
 "nbformat_minor": 2
}
