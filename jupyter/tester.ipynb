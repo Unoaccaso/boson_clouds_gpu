{
 "cells": [
  {
   "cell_type": "code",
   "execution_count": 5,
   "metadata": {},
   "outputs": [
    {
     "name": "stdout",
     "output_type": "stream",
     "text": [
      "The autoreload extension is already loaded. To reload it, use:\n",
      "  %reload_ext autoreload\n"
     ]
    }
   ],
   "source": [
    "%load_ext autoreload\n",
    "import warnings\n",
    "warnings.filterwarnings('ignore')\n",
    "\n",
    "import sys\n",
    "sys.path.append('../src/boson_cloud_gpu/')\n"
   ]
  },
  {
   "cell_type": "code",
   "execution_count": 6,
   "metadata": {},
   "outputs": [
    {
     "name": "stdout",
     "output_type": "stream",
     "text": [
      "gpu_v3.0            :    CPU: 125727.321 us   +/- 5581.597 (min: 120508.343 / max: 149141.003) us     GPU-0: 125742.265 us   +/- 5587.379 (min: 120547.325 / max: 149093.369) us\n"
     ]
    }
   ],
   "source": [
    "%autoreload 2\n",
    "%run ../src/boson_cloud_gpu/main"
   ]
  }
 ],
 "metadata": {
  "kernelspec": {
   "display_name": "bc-gpu",
   "language": "python",
   "name": "python3"
  },
  "language_info": {
   "codemirror_mode": {
    "name": "ipython",
    "version": 3
   },
   "file_extension": ".py",
   "mimetype": "text/x-python",
   "name": "python",
   "nbconvert_exporter": "python",
   "pygments_lexer": "ipython3",
   "version": "3.11.6"
  }
 },
 "nbformat": 4,
 "nbformat_minor": 2
}
