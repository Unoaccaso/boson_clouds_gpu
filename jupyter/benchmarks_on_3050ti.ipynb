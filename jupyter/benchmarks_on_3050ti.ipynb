{
 "cells": [
  {
   "cell_type": "code",
   "execution_count": null,
   "metadata": {},
   "outputs": [],
   "source": [
    "%load_ext autoreload\n",
    "import warnings\n",
    "warnings.filterwarnings('ignore')"
   ]
  },
  {
   "cell_type": "code",
   "execution_count": null,
   "metadata": {},
   "outputs": [],
   "source": [
    "%autoreload 2\n",
    "# ~2021 - FIRST CODE\n",
    "%timeit %run ./old_cpu/mark_0/first_code_bench.py"
   ]
  },
  {
   "cell_type": "code",
   "execution_count": null,
   "metadata": {},
   "outputs": [],
   "source": [
    "%autoreload 2\n",
    "# ~01/2022 - OLD COMPUTATION WITH MASK ON CPU <- primo tentativo di ottimizzazione\n",
    "%timeit %run ./old_cpu/mark_1/clem_sim_bench.py"
   ]
  },
  {
   "cell_type": "code",
   "execution_count": null,
   "metadata": {},
   "outputs": [],
   "source": [
    "%autoreload 2\n",
    "# ~08/2022 - OLD \"OPTIMIZED\" COMPUTATION WITH MASK ON CPU <- codice usato per la tesi\n",
    "%timeit %run ./old_cpu/mark_2/boson_cloud_cpu.py"
   ]
  },
  {
   "cell_type": "code",
   "execution_count": null,
   "metadata": {},
   "outputs": [],
   "source": [
    "%autoreload 2\n",
    "# 08/12/2023 - OLD COMPUTATION WITHOUT MASK ON GPU\n",
    "%timeit %run ../src/boson_cloud_gpu/main.py"
   ]
  },
  {
   "cell_type": "code",
   "execution_count": null,
   "metadata": {},
   "outputs": [],
   "source": [
    "%autoreload 2\n",
    "# 08/12/2023 - OLD COMPUTATION WITH MASK ON GPU\n",
    "%timeit %run ../src/boson_cloud_gpu/main.py"
   ]
  },
  {
   "cell_type": "code",
   "execution_count": null,
   "metadata": {},
   "outputs": [],
   "source": [
    "%autoreload 2\n",
    "# 10/12/2023 - NEW (2 days of optimization) COMPUTATION WITHOUT MASK ON GPU\n",
    "%timeit %run ../src/boson_cloud_gpu/main.py"
   ]
  },
  {
   "cell_type": "code",
   "execution_count": 2,
   "metadata": {},
   "outputs": [
    {
     "name": "stdout",
     "output_type": "stream",
     "text": [
      "98.4 ms ± 3.7 ms per loop (mean ± std. dev. of 7 runs, 10 loops each)\n"
     ]
    }
   ],
   "source": [
    "%autoreload 2\n",
    "# 10/12/2023 - NEW (2 days of optimization) COMPUTATION WITH MASK ON GPU\n",
    "%timeit %run ../src/boson_cloud_gpu/main.py"
   ]
  }
 ],
 "metadata": {
  "kernelspec": {
   "display_name": "bc-gpu",
   "language": "python",
   "name": "python3"
  },
  "language_info": {
   "codemirror_mode": {
    "name": "ipython",
    "version": 3
   },
   "file_extension": ".py",
   "mimetype": "text/x-python",
   "name": "python",
   "nbconvert_exporter": "python",
   "pygments_lexer": "ipython3",
   "version": "3.11.5"
  }
 },
 "nbformat": 4,
 "nbformat_minor": 2
}
