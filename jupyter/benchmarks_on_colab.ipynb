{
  "cells": [
    {
      "cell_type": "markdown",
      "metadata": {
        "id": "view-in-github",
        "colab_type": "text"
      },
      "source": [
        "<a href=\"https://colab.research.google.com/github/Unoaccaso/boson_clouds_gpu/blob/main/jupyter/benchmarks_on_colab.ipynb\" target=\"_parent\"><img src=\"https://colab.research.google.com/assets/colab-badge.svg\" alt=\"Open In Colab\"/></a>"
      ]
    },
    {
      "cell_type": "code",
      "source": [
        "!git clone https://github.com/Unoaccaso/boson_clouds_gpu"
      ],
      "metadata": {
        "id": "HuZGNXmMW3qz"
      },
      "execution_count": null,
      "outputs": []
    },
    {
      "cell_type": "code",
      "source": [
        "!pip install fast_histogram"
      ],
      "metadata": {
        "id": "F1uWrvL9XKgF"
      },
      "execution_count": null,
      "outputs": []
    },
    {
      "cell_type": "code",
      "execution_count": 3,
      "metadata": {
        "id": "8GRYVVy7WzQM"
      },
      "outputs": [],
      "source": [
        "%load_ext autoreload\n",
        "import warnings\n",
        "warnings.filterwarnings('ignore')"
      ]
    },
    {
      "cell_type": "code",
      "execution_count": 4,
      "metadata": {
        "colab": {
          "base_uri": "https://localhost:8080/"
        },
        "id": "eGSkVEAsWzQO",
        "outputId": "16522e08-ab4a-4cc6-a3ef-761e3ea86574"
      },
      "outputs": [
        {
          "output_type": "stream",
          "name": "stdout",
          "text": [
            "4.69 s ± 508 ms per loop (mean ± std. dev. of 7 runs, 1 loop each)\n"
          ]
        }
      ],
      "source": [
        "%autoreload 2\n",
        "# ~2021 - FIRST CODE\n",
        "%timeit %run boson_clouds_gpu/jupyter/old_cpu/mark_0/first_code_bench.py"
      ]
    },
    {
      "cell_type": "code",
      "execution_count": 5,
      "metadata": {
        "colab": {
          "base_uri": "https://localhost:8080/"
        },
        "id": "yavKZuDjWzQP",
        "outputId": "3bde0488-4b60-4b19-d214-648b7d268815"
      },
      "outputs": [
        {
          "output_type": "stream",
          "name": "stdout",
          "text": [
            "6.58 s ± 111 ms per loop (mean ± std. dev. of 7 runs, 1 loop each)\n"
          ]
        }
      ],
      "source": [
        "%autoreload 2\n",
        "# ~01/2022 - OLD COMPUTATION WITH MASK ON CPU <- primo tentativo di ottimizzazione\n",
        "%timeit %run boson_clouds_gpu/jupyter/old_cpu/mark_1/clem_sim_bench.py"
      ]
    },
    {
      "cell_type": "code",
      "execution_count": 4,
      "metadata": {
        "colab": {
          "base_uri": "https://localhost:8080/"
        },
        "id": "Ns2pJqTqWzQP",
        "outputId": "96769eb3-5940-4b9c-cd14-e0780e06d98f"
      },
      "outputs": [
        {
          "output_type": "stream",
          "name": "stdout",
          "text": [
            "3.76 s ± 177 ms per loop (mean ± std. dev. of 7 runs, 1 loop each)\n"
          ]
        }
      ],
      "source": [
        "%autoreload 2\n",
        "# ~08/2022 - OLD \"OPTIMIZED\" COMPUTATION WITH MASK ON CPU <- codice usato per la tesi\n",
        "%timeit %run boson_clouds_gpu/jupyter/old_cpu/mark_2/boson_cloud_cpu.py"
      ]
    },
    {
      "cell_type": "code",
      "execution_count": 10,
      "metadata": {
        "colab": {
          "base_uri": "https://localhost:8080/"
        },
        "id": "aoQbmHvmWzQQ",
        "outputId": "150c7514-a7f1-494b-fc50-76fee2ae0dfc"
      },
      "outputs": [
        {
          "output_type": "stream",
          "name": "stdout",
          "text": [
            "41.7 ms ± 504 µs per loop (mean ± std. dev. of 7 runs, 10 loops each)\n"
          ]
        }
      ],
      "source": [
        "%autoreload 2\n",
        "# 08/12/2023 - OLD COMPUTATION WITHOUT MASK ON GPU\n",
        "%timeit %run boson_clouds_gpu/src/boson_cloud_gpu/main.py"
      ]
    },
    {
      "cell_type": "code",
      "execution_count": 9,
      "metadata": {
        "colab": {
          "base_uri": "https://localhost:8080/"
        },
        "id": "IaLnBo2hWzQQ",
        "outputId": "f35b77c1-cdae-456d-8e19-929445910195"
      },
      "outputs": [
        {
          "output_type": "stream",
          "name": "stdout",
          "text": [
            "80.7 ms ± 12.2 ms per loop (mean ± std. dev. of 7 runs, 1 loop each)\n"
          ]
        }
      ],
      "source": [
        "%autoreload 2\n",
        "# 08/12/2023 - OLD COMPUTATION WITH MASK ON GPU\n",
        "%timeit %run boson_clouds_gpu/src/boson_cloud_gpu/main.py"
      ]
    },
    {
      "cell_type": "code",
      "execution_count": 11,
      "metadata": {
        "colab": {
          "base_uri": "https://localhost:8080/"
        },
        "id": "5mFrm8HYWzQQ",
        "outputId": "704665aa-9208-4050-ddc0-e7b39513f3f8"
      },
      "outputs": [
        {
          "output_type": "stream",
          "name": "stdout",
          "text": [
            "45 ms ± 1.02 ms per loop (mean ± std. dev. of 7 runs, 10 loops each)\n"
          ]
        }
      ],
      "source": [
        "%autoreload 2\n",
        "# 10/12/2023 - NEW (2 days of optimization) COMPUTATION WITHOUT MASK ON GPU\n",
        "%timeit %run boson_clouds_gpu/src/boson_cloud_gpu/main.py"
      ]
    },
    {
      "cell_type": "code",
      "execution_count": 12,
      "metadata": {
        "id": "ue-Kw_KLWzQQ",
        "outputId": "b7ec9fae-1515-42f9-b330-6d126a1a5a0c",
        "colab": {
          "base_uri": "https://localhost:8080/"
        }
      },
      "outputs": [
        {
          "output_type": "stream",
          "name": "stdout",
          "text": [
            "66.2 ms ± 249 µs per loop (mean ± std. dev. of 7 runs, 10 loops each)\n"
          ]
        }
      ],
      "source": [
        "%autoreload 2\n",
        "# 10/12/2023 - NEW (2 days of optimization) COMPUTATION WITH MASK ON GPU\n",
        "%timeit %run boson_clouds_gpu/src/boson_cloud_gpu/main.py"
      ]
    }
  ],
  "metadata": {
    "kernelspec": {
      "display_name": "Python 3",
      "name": "python3"
    },
    "language_info": {
      "codemirror_mode": {
        "name": "ipython",
        "version": 3
      },
      "file_extension": ".py",
      "mimetype": "text/x-python",
      "name": "python",
      "nbconvert_exporter": "python",
      "pygments_lexer": "ipython3",
      "version": "3.11.5"
    },
    "colab": {
      "provenance": [],
      "gpuType": "T4",
      "include_colab_link": true
    },
    "accelerator": "GPU"
  },
  "nbformat": 4,
  "nbformat_minor": 0
}