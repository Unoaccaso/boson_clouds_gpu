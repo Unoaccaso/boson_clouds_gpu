{
  "cells": [
    {
      "cell_type": "markdown",
      "metadata": {
        "id": "view-in-github",
        "colab_type": "text"
      },
      "source": [
        "<a href=\"https://colab.research.google.com/github/Unoaccaso/boson_clouds_gpu/blob/main/jupyter/benchmarks_on_colab.ipynb\" target=\"_parent\"><img src=\"https://colab.research.google.com/assets/colab-badge.svg\" alt=\"Open In Colab\"/></a>"
      ]
    },
    {
      "cell_type": "code",
      "source": [
        "!git clone https://github.com/Unoaccaso/boson_clouds_gpu\n",
        "%load_ext autoreload\n",
        "import warnings\n",
        "warnings.filterwarnings('ignore')"
      ],
      "metadata": {
        "id": "HuZGNXmMW3qz",
        "outputId": "57438a79-c800-4c4f-8522-709df9dea590",
        "colab": {
          "base_uri": "https://localhost:8080/"
        }
      },
      "execution_count": 1,
      "outputs": [
        {
          "output_type": "stream",
          "name": "stdout",
          "text": [
            "Cloning into 'boson_clouds_gpu'...\n",
            "remote: Enumerating objects: 482, done.\u001b[K\n",
            "remote: Counting objects: 100% (482/482), done.\u001b[K\n",
            "remote: Compressing objects: 100% (333/333), done.\u001b[K\n",
            "remote: Total 482 (delta 226), reused 352 (delta 113), pack-reused 0\u001b[K\n",
            "Receiving objects: 100% (482/482), 257.23 KiB | 12.86 MiB/s, done.\n",
            "Resolving deltas: 100% (226/226), done.\n"
          ]
        }
      ]
    },
    {
      "cell_type": "code",
      "source": [
        "!pip install fast_histogram"
      ],
      "metadata": {
        "id": "F1uWrvL9XKgF",
        "outputId": "b138830a-9d82-4c61-c639-729d238ac8f0",
        "colab": {
          "base_uri": "https://localhost:8080/"
        }
      },
      "execution_count": null,
      "outputs": [
        {
          "output_type": "stream",
          "name": "stdout",
          "text": [
            "Collecting fast_histogram\n",
            "  Downloading fast_histogram-0.12-cp38-abi3-manylinux_2_5_x86_64.manylinux1_x86_64.manylinux_2_17_x86_64.manylinux2014_x86_64.whl (57 kB)\n",
            "\u001b[?25l     \u001b[90m━━━━━━━━━━━━━━━━━━━━━━━━━━━━━━━━━━━━━━━━\u001b[0m \u001b[32m0.0/57.2 kB\u001b[0m \u001b[31m?\u001b[0m eta \u001b[36m-:--:--\u001b[0m\r\u001b[2K     \u001b[91m━━━━━━━━━━━━━━━━━━━━━━━━━━━━━━━━━━━\u001b[0m\u001b[91m╸\u001b[0m\u001b[90m━━━━\u001b[0m \u001b[32m51.2/57.2 kB\u001b[0m \u001b[31m1.5 MB/s\u001b[0m eta \u001b[36m0:00:01\u001b[0m\r\u001b[2K     \u001b[90m━━━━━━━━━━━━━━━━━━━━━━━━━━━━━━━━━━━━━━━━\u001b[0m \u001b[32m57.2/57.2 kB\u001b[0m \u001b[31m1.3 MB/s\u001b[0m eta \u001b[36m0:00:00\u001b[0m\n",
            "\u001b[?25hRequirement already satisfied: numpy in /usr/local/lib/python3.10/dist-packages (from fast_histogram) (1.23.5)\n",
            "Installing collected packages: fast_histogram\n",
            "Successfully installed fast_histogram-0.12\n"
          ]
        }
      ]
    },
    {
      "cell_type": "code",
      "execution_count": null,
      "metadata": {
        "colab": {
          "base_uri": "https://localhost:8080/"
        },
        "id": "eGSkVEAsWzQO",
        "outputId": "16522e08-ab4a-4cc6-a3ef-761e3ea86574"
      },
      "outputs": [
        {
          "output_type": "stream",
          "name": "stdout",
          "text": [
            "4.69 s ± 508 ms per loop (mean ± std. dev. of 7 runs, 1 loop each)\n"
          ]
        }
      ],
      "source": [
        "%autoreload 2\n",
        "# ~2021 - FIRST CODE\n",
        "%timeit %run boson_clouds_gpu/jupyter/old_cpu/mark_0/first_code_bench.py"
      ]
    },
    {
      "cell_type": "code",
      "execution_count": null,
      "metadata": {
        "colab": {
          "base_uri": "https://localhost:8080/"
        },
        "id": "yavKZuDjWzQP",
        "outputId": "3bde0488-4b60-4b19-d214-648b7d268815"
      },
      "outputs": [
        {
          "output_type": "stream",
          "name": "stdout",
          "text": [
            "6.58 s ± 111 ms per loop (mean ± std. dev. of 7 runs, 1 loop each)\n"
          ]
        }
      ],
      "source": [
        "%autoreload 2\n",
        "# ~01/2022 - OLD COMPUTATION WITH MASK ON CPU <- primo tentativo di ottimizzazione\n",
        "%timeit %run boson_clouds_gpu/jupyter/old_cpu/mark_1/clem_sim_bench.py"
      ]
    },
    {
      "cell_type": "code",
      "execution_count": null,
      "metadata": {
        "colab": {
          "base_uri": "https://localhost:8080/"
        },
        "id": "Ns2pJqTqWzQP",
        "outputId": "96769eb3-5940-4b9c-cd14-e0780e06d98f"
      },
      "outputs": [
        {
          "output_type": "stream",
          "name": "stdout",
          "text": [
            "3.76 s ± 177 ms per loop (mean ± std. dev. of 7 runs, 1 loop each)\n"
          ]
        }
      ],
      "source": [
        "%autoreload 2\n",
        "# ~08/2022 - OLD \"OPTIMIZED\" COMPUTATION WITH MASK ON CPU <- codice usato per la tesi\n",
        "%timeit %run boson_clouds_gpu/jupyter/old_cpu/mark_2/boson_cloud_cpu.py"
      ]
    },
    {
      "cell_type": "code",
      "execution_count": null,
      "metadata": {
        "colab": {
          "base_uri": "https://localhost:8080/"
        },
        "id": "aoQbmHvmWzQQ",
        "outputId": "150c7514-a7f1-494b-fc50-76fee2ae0dfc"
      },
      "outputs": [
        {
          "output_type": "stream",
          "name": "stdout",
          "text": [
            "41.7 ms ± 504 µs per loop (mean ± std. dev. of 7 runs, 10 loops each)\n"
          ]
        }
      ],
      "source": [
        "%autoreload 2\n",
        "# 08/12/2023 - OLD COMPUTATION WITHOUT MASK ON GPU\n",
        "%timeit %run boson_clouds_gpu/src/boson_cloud_gpu/main.py"
      ]
    },
    {
      "cell_type": "code",
      "execution_count": null,
      "metadata": {
        "colab": {
          "base_uri": "https://localhost:8080/"
        },
        "id": "IaLnBo2hWzQQ",
        "outputId": "093c8faf-4e2e-49a1-c04a-d4f84b8209b2"
      },
      "outputs": [
        {
          "output_type": "stream",
          "name": "stdout",
          "text": [
            "82 ms ± 12.5 ms per loop (mean ± std. dev. of 7 runs, 1 loop each)\n"
          ]
        }
      ],
      "source": [
        "%autoreload 2\n",
        "# 08/12/2023 - OLD COMPUTATION WITH MASK ON GPU\n",
        "%timeit %run boson_clouds_gpu/src/boson_cloud_gpu/main.py"
      ]
    },
    {
      "cell_type": "code",
      "execution_count": null,
      "metadata": {
        "colab": {
          "base_uri": "https://localhost:8080/"
        },
        "id": "5mFrm8HYWzQQ",
        "outputId": "2c936157-35a3-4939-d30a-9aaf88739c43"
      },
      "outputs": [
        {
          "output_type": "stream",
          "name": "stdout",
          "text": [
            "41.7 ms ± 320 µs per loop (mean ± std. dev. of 7 runs, 10 loops each)\n"
          ]
        }
      ],
      "source": [
        "%autoreload 2\n",
        "# 10/12/2023 - NEW (2 days of optimization) COMPUTATION WITHOUT MASK ON GPU\n",
        "%timeit %run boson_clouds_gpu/src/boson_cloud_gpu/main.py"
      ]
    },
    {
      "cell_type": "code",
      "execution_count": 11,
      "metadata": {
        "id": "ue-Kw_KLWzQQ",
        "outputId": "df3de6e1-5cb2-45a7-a9cc-6c414be53a88",
        "colab": {
          "base_uri": "https://localhost:8080/",
          "height": 447
        }
      },
      "outputs": [
        {
          "output_type": "display_data",
          "data": {
            "text/plain": [
              "<Figure size 640x480 with 1 Axes>"
            ],
            "image/png": "[encoded data removed]"
          },
          "metadata": {}
        },
        {
          "output_type": "display_data",
          "data": {
            "text/plain": [
              "<Figure size 640x480 with 0 Axes>"
            ]
          },
          "metadata": {}
        }
      ],
      "source": [
        "%autoreload 2\n",
        "# 10/12/2023 - NEW (2 days of optimization) COMPUTATION WITH MASK ON GPU\n",
        "%run boson_clouds_gpu/src/boson_cloud_gpu/main.py"
      ]
    }
  ],
  "metadata": {
    "kernelspec": {
      "display_name": "Python 3",
      "name": "python3"
    },
    "language_info": {
      "codemirror_mode": {
        "name": "ipython",
        "version": 3
      },
      "file_extension": ".py",
      "mimetype": "text/x-python",
      "name": "python",
      "nbconvert_exporter": "python",
      "pygments_lexer": "ipython3",
      "version": "3.11.5"
    },
    "colab": {
      "provenance": [],
      "gpuType": "T4",
      "include_colab_link": true
    },
    "accelerator": "GPU"
  },
  "nbformat": 4,
  "nbformat_minor": 0
}