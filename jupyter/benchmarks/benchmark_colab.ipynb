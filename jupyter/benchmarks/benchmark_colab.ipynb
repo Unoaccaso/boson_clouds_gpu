{
  "cells": [
    {
      "cell_type": "markdown",
      "metadata": {
        "id": "view-in-github",
        "colab_type": "text"
      },
      "source": [
        "<a href=\"https://colab.research.google.com/github/Unoaccaso/boson_clouds_gpu/blob/main/jupyter/benchmarks/benchmark_colab.ipynb\" target=\"_parent\"><img src=\"https://colab.research.google.com/assets/colab-badge.svg\" alt=\"Open In Colab\"/></a>"
      ]
    },
    {
      "cell_type": "code",
      "execution_count": null,
      "metadata": {
        "id": "UjH_9Cv4frHk"
      },
      "outputs": [],
      "source": [
        "!git clone https://github.com/Unoaccaso/boson_clouds_gpu\n",
        "%load_ext autoreload\n",
        "import warnings\n",
        "warnings.filterwarnings('ignore')\n"
      ]
    },
    {
      "cell_type": "code",
      "source": [
        "!pip install fast_histogram"
      ],
      "metadata": {
        "id": "JjZWEYuJgqQ3"
      },
      "execution_count": null,
      "outputs": []
    },
    {
      "cell_type": "code",
      "source": [
        "%autoreload 2\n",
        "# ~2021 - FIRST CODE\n",
        "%timeit %run boson_clouds_gpu/jupyter/old_cpu/mark_0/first_code_bench.py"
      ],
      "metadata": {
        "id": "z1ZZX11fgTAI",
        "outputId": "f1720f81-787b-4e87-faef-06b3bce2a853",
        "colab": {
          "base_uri": "https://localhost:8080/"
        }
      },
      "execution_count": 3,
      "outputs": [
        {
          "output_type": "stream",
          "name": "stdout",
          "text": [
            "4.63 s ± 194 ms per loop (mean ± std. dev. of 7 runs, 1 loop each)\n"
          ]
        }
      ]
    },
    {
      "cell_type": "code",
      "source": [
        "%autoreload 2\n",
        "# ~01/2022 - OLD COMPUTATION WITH MASK ON CPU <- primo tentativo di ottimizzazione\n",
        "%timeit %run boson_clouds_gpu/jupyter/old_cpu/mark_1/clem_sim_bench.py"
      ],
      "metadata": {
        "id": "PDanXpNqgUvI",
        "outputId": "4b352b8c-2e79-453f-aca1-5f141b881fcc",
        "colab": {
          "base_uri": "https://localhost:8080/"
        }
      },
      "execution_count": 4,
      "outputs": [
        {
          "output_type": "stream",
          "name": "stdout",
          "text": [
            "6.62 s ± 196 ms per loop (mean ± std. dev. of 7 runs, 1 loop each)\n"
          ]
        }
      ]
    },
    {
      "cell_type": "code",
      "source": [
        "%autoreload 2\n",
        "# ~08/2022 - OLD \"OPTIMIZED\" COMPUTATION WITH MASK ON CPU <- codice usato per la tesi\n",
        "%timeit %run boson_clouds_gpu/jupyter/old_cpu/mark_2/boson_cloud_cpu.py"
      ],
      "metadata": {
        "id": "K4sM4l1-gW8I",
        "outputId": "52057236-fd98-4fb6-ecd4-36dfd2426410",
        "colab": {
          "base_uri": "https://localhost:8080/"
        }
      },
      "execution_count": 5,
      "outputs": [
        {
          "output_type": "stream",
          "name": "stdout",
          "text": [
            "3.74 s ± 188 ms per loop (mean ± std. dev. of 7 runs, 1 loop each)\n"
          ]
        }
      ]
    },
    {
      "cell_type": "code",
      "execution_count": 6,
      "metadata": {
        "id": "mdSPMIfdfrHo",
        "outputId": "c3a09eb9-2922-41c9-920a-4195a2ac3875",
        "colab": {
          "base_uri": "https://localhost:8080/"
        }
      },
      "outputs": [
        {
          "output_type": "stream",
          "name": "stdout",
          "text": [
            "gpu_v1.0            :    CPU:71541.532 us   +/-1031.002 (min:70381.435 / max:74922.292) us     GPU-0:72738.936 us   +/-1026.201 (min:71588.509 / max:76109.825) us\n"
          ]
        }
      ],
      "source": [
        "# First version\n",
        "%run boson_clouds_gpu/jupyter/benchmarks/gpu_v1.0/main.py\n",
        "# %timeit %run ./gpu_v1.0/main.py"
      ]
    },
    {
      "cell_type": "code",
      "execution_count": 7,
      "metadata": {
        "id": "k7P5Hei2frHp",
        "outputId": "f70c9392-b931-4979-f41e-829c35083cd0",
        "colab": {
          "base_uri": "https://localhost:8080/"
        }
      },
      "outputs": [
        {
          "output_type": "stream",
          "name": "stdout",
          "text": [
            "gpu_v2.0            :    CPU: 8679.946 us   +/-1659.787 (min: 6835.805 / max:13381.163) us     GPU-0:82468.504 us   +/-1407.526 (min:80705.154 / max:86401.024) us\n"
          ]
        }
      ],
      "source": [
        "# First version\n",
        "%autoreload 2\n",
        "%run boson_clouds_gpu/jupyter/benchmarks/gpu_v2.0/main.py\n",
        "# timeit %run ./gpu_v2.0/main.py"
      ]
    },
    {
      "cell_type": "code",
      "execution_count": 8,
      "metadata": {
        "id": "Z57VyosXfrHq",
        "outputId": "73352d9b-a902-4e33-845b-7697a7bacd88",
        "colab": {
          "base_uri": "https://localhost:8080/"
        }
      },
      "outputs": [
        {
          "output_type": "stream",
          "name": "stdout",
          "text": [
            "gpu_v3.0            :    CPU: 5719.095 us   +/-630.461 (min: 5216.796 / max: 9223.987) us     GPU-0:23184.404 us   +/-625.890 (min:22704.416 / max:26664.961) us\n"
          ]
        }
      ],
      "source": [
        "# Last revision\n",
        "%run /content/boson_clouds_gpu/src/boson_cloud_gpu/main.py"
      ]
    }
  ],
  "metadata": {
    "kernelspec": {
      "display_name": "Python 3",
      "name": "python3"
    },
    "language_info": {
      "codemirror_mode": {
        "name": "ipython",
        "version": 3
      },
      "file_extension": ".py",
      "mimetype": "text/x-python",
      "name": "python",
      "nbconvert_exporter": "python",
      "pygments_lexer": "ipython3",
      "version": "3.11.6"
    },
    "colab": {
      "provenance": [],
      "gpuType": "T4",
      "include_colab_link": true
    },
    "accelerator": "GPU"
  },
  "nbformat": 4,
  "nbformat_minor": 0
}