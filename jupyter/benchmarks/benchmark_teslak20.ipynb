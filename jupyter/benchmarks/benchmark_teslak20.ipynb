{
  "cells": [
    {
      "cell_type": "markdown",
      "metadata": {
        "colab_type": "text",
        "id": "view-in-github"
      },
      "source": [
        "<a href=\"https://colab.research.google.com/github/Unoaccaso/boson_clouds_gpu/blob/main/jupyter/benchmarks/benchmark_colab.ipynb\" target=\"_parent\"><img src=\"https://colab.research.google.com/assets/colab-badge.svg\" alt=\"Open In Colab\"/></a>"
      ]
    },
    {
      "cell_type": "code",
      "execution_count": 1,
      "metadata": {
        "id": "UjH_9Cv4frHk"
      },
      "outputs": [
        {
          "name": "stdout",
          "output_type": "stream",
          "text": [
            "The autoreload extension is already loaded. To reload it, use:\n",
            "  %reload_ext autoreload\n"
          ]
        }
      ],
      "source": [
        "%load_ext autoreload\n",
        "import warnings\n",
        "warnings.filterwarnings('ignore')\n"
      ]
    },
    {
      "cell_type": "code",
      "execution_count": 4,
      "metadata": {
        "colab": {
          "base_uri": "https://localhost:8080/"
        },
        "id": "z1ZZX11fgTAI",
        "outputId": "f1720f81-787b-4e87-faef-06b3bce2a853"
      },
      "outputs": [
        {
          "name": "stdout",
          "output_type": "stream",
          "text": [
            "8.24 s ± 3.86 ms per loop (mean ± std. dev. of 7 runs, 1 loop each)\n"
          ]
        }
      ],
      "source": [
        "%autoreload 2\n",
        "# ~2021 - FIRST CODE\n",
        "%timeit %run ../old_cpu/mark_0/first_code_bench.py"
      ]
    },
    {
      "cell_type": "code",
      "execution_count": 5,
      "metadata": {
        "colab": {
          "base_uri": "https://localhost:8080/"
        },
        "id": "PDanXpNqgUvI",
        "outputId": "4b352b8c-2e79-453f-aca1-5f141b881fcc"
      },
      "outputs": [
        {
          "name": "stdout",
          "output_type": "stream",
          "text": [
            "12.9 s ± 336 ms per loop (mean ± std. dev. of 7 runs, 1 loop each)\n"
          ]
        }
      ],
      "source": [
        "%autoreload 2\n",
        "# ~01/2022 - OLD COMPUTATION WITH MASK ON CPU <- primo tentativo di ottimizzazione\n",
        "%timeit %run ../old_cpu/mark_1/clem_sim_bench.py"
      ]
    },
    {
      "cell_type": "code",
      "execution_count": 6,
      "metadata": {
        "colab": {
          "base_uri": "https://localhost:8080/"
        },
        "id": "K4sM4l1-gW8I",
        "outputId": "52057236-fd98-4fb6-ecd4-36dfd2426410"
      },
      "outputs": [
        {
          "name": "stdout",
          "output_type": "stream",
          "text": [
            "5.91 s ± 65.5 ms per loop (mean ± std. dev. of 7 runs, 1 loop each)\n"
          ]
        }
      ],
      "source": [
        "%autoreload 2\n",
        "# ~08/2022 - OLD \"OPTIMIZED\" COMPUTATION WITH MASK ON CPU <- codice usato per la tesi\n",
        "%timeit %run ../old_cpu/mark_2/boson_cloud_cpu.py"
      ]
    },
    {
      "cell_type": "code",
      "execution_count": 7,
      "metadata": {
        "colab": {
          "base_uri": "https://localhost:8080/"
        },
        "id": "mdSPMIfdfrHo",
        "outputId": "c3a09eb9-2922-41c9-920a-4195a2ac3875"
      },
      "outputs": [
        {
          "name": "stdout",
          "output_type": "stream",
          "text": [
            "gpu_v1.0            :    CPU: 139614.296 us   +/- 211.714 (min: 139474.406 / max: 141567.970) us     GPU-0: 141864.447 us   +/- 209.744 (min: 141729.019 / max: 143801.117) us\n"
          ]
        }
      ],
      "source": [
        "# First version\n",
        "%run ./gpu_v1.0/main.py\n",
        "# %timeit %run ./gpu_v1.0/main.py"
      ]
    },
    {
      "cell_type": "code",
      "execution_count": 8,
      "metadata": {
        "colab": {
          "base_uri": "https://localhost:8080/"
        },
        "id": "k7P5Hei2frHp",
        "outputId": "f70c9392-b931-4979-f41e-829c35083cd0"
      },
      "outputs": [
        {
          "name": "stdout",
          "output_type": "stream",
          "text": [
            "gpu_v2.0            :    CPU: 14386.516 us   +/- 43.677 (min: 14343.588 / max: 14765.603) us     GPU-0: 67510.970 us   +/- 48.936 (min: 67421.120 / max: 67881.500) us\n"
          ]
        }
      ],
      "source": [
        "# First version\n",
        "%autoreload 2\n",
        "%run ./gpu_v2.0/main.py\n",
        "# timeit %run ./gpu_v2.0/main.py"
      ]
    },
    {
      "cell_type": "code",
      "execution_count": 9,
      "metadata": {
        "colab": {
          "base_uri": "https://localhost:8080/"
        },
        "id": "Z57VyosXfrHq",
        "outputId": "73352d9b-a902-4e33-845b-7697a7bacd88"
      },
      "outputs": [
        {
          "name": "stdout",
          "output_type": "stream",
          "text": [
            "gpu_v3.0            :    CPU: 10952.576 us   +/- 21.763 (min: 10879.989 / max: 11007.860) us     GPU-0: 22404.348 us   +/- 23.150 (min: 22337.631 / max: 22469.185) us\n"
          ]
        }
      ],
      "source": [
        "# Last revision\n",
        "%run ../../src/boson_cloud_gpu/main.py"
      ]
    }
  ],
  "metadata": {
    "accelerator": "GPU",
    "colab": {
      "gpuType": "T4",
      "include_colab_link": true,
      "provenance": []
    },
    "kernelspec": {
      "display_name": "Python 3",
      "name": "python3"
    },
    "language_info": {
      "codemirror_mode": {
        "name": "ipython",
        "version": 3
      },
      "file_extension": ".py",
      "mimetype": "text/x-python",
      "name": "python",
      "nbconvert_exporter": "python",
      "pygments_lexer": "ipython3",
      "version": "3.11.5"
    }
  },
  "nbformat": 4,
  "nbformat_minor": 0
}
