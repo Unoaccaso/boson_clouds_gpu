{
 "cells": [
  {
   "cell_type": "code",
   "execution_count": 1,
   "metadata": {},
   "outputs": [
    {
     "name": "stdout",
     "output_type": "stream",
     "text": [
      "The autoreload extension is already loaded. To reload it, use:\n",
      "  %reload_ext autoreload\n"
     ]
    }
   ],
   "source": [
    "%load_ext autoreload\n",
    "import warnings\n",
    "warnings.filterwarnings('ignore')"
   ]
  },
  {
   "cell_type": "code",
   "execution_count": 3,
   "metadata": {},
   "outputs": [
    {
     "name": "stdout",
     "output_type": "stream",
     "text": [
      "4.86 s ± 1.4 s per loop (mean ± std. dev. of 7 runs, 1 loop each)\n"
     ]
    }
   ],
   "source": [
    "%autoreload 2\n",
    "# ~2021 - FIRST CODE\n",
    "%timeit %run ../old_cpu/mark_0/first_code_bench.py"
   ]
  },
  {
   "cell_type": "code",
   "execution_count": 1,
   "metadata": {},
   "outputs": [
    {
     "name": "stdout",
     "output_type": "stream",
     "text": [
      "6.18 s ± 456 ms per loop (mean ± std. dev. of 7 runs, 1 loop each)\n"
     ]
    }
   ],
   "source": [
    "%autoreload 2\n",
    "# ~01/2022 - OLD COMPUTATION WITH MASK ON CPU <- primo tentativo di ottimizzazione\n",
    "%timeit %run ../old_cpu/mark_1/clem_sim_bench.py"
   ]
  },
  {
   "cell_type": "code",
   "execution_count": 2,
   "metadata": {},
   "outputs": [
    {
     "name": "stdout",
     "output_type": "stream",
     "text": [
      "3.07 s ± 270 ms per loop (mean ± std. dev. of 7 runs, 1 loop each)\n"
     ]
    }
   ],
   "source": [
    "%autoreload 2\n",
    "# ~08/2022 - OLD \"OPTIMIZED\" COMPUTATION WITH MASK ON CPU <- codice usato per la tesi\n",
    "%timeit %run ../old_cpu/mark_2/boson_cloud_cpu.py"
   ]
  },
  {
   "cell_type": "code",
   "execution_count": 4,
   "metadata": {},
   "outputs": [
    {
     "name": "stdout",
     "output_type": "stream",
     "text": [
      "gpu_v1.0            :    CPU: 155560.924 us   +/- 3256.650 (min: 150023.795 / max: 159095.402) us     GPU-0: 155645.146 us   +/- 3299.506 (min: 150104.385 / max: 159276.321) us\n"
     ]
    }
   ],
   "source": [
    "%run ./gpu_v1.0/main.py"
   ]
  },
  {
   "cell_type": "code",
   "execution_count": 5,
   "metadata": {},
   "outputs": [
    {
     "name": "stdout",
     "output_type": "stream",
     "text": [
      "gpu_v2.0            :    CPU: 170010.612 us   +/- 2530.570 (min: 165244.809 / max: 175094.489) us     GPU-0: 170079.884 us   +/- 2599.807 (min: 165148.697 / max: 175307.648) us\n"
     ]
    }
   ],
   "source": [
    "%run ./gpu_v2.0/main.py"
   ]
  },
  {
   "cell_type": "code",
   "execution_count": 6,
   "metadata": {},
   "outputs": [
    {
     "name": "stdout",
     "output_type": "stream",
     "text": [
      "gpu_v3.0            :    CPU: 50366.424 us   +/- 3415.963 (min: 45911.110 / max: 56838.401) us     GPU-0: 50478.541 us   +/- 3416.621 (min: 46118.366 / max: 56864.479) us\n"
     ]
    }
   ],
   "source": [
    "%run ../../src/boson_cloud_gpu/main.py"
   ]
  }
 ],
 "metadata": {
  "kernelspec": {
   "display_name": "bc-gpu",
   "language": "python",
   "name": "python3"
  },
  "language_info": {
   "codemirror_mode": {
    "name": "ipython",
    "version": 3
   },
   "file_extension": ".py",
   "mimetype": "text/x-python",
   "name": "python",
   "nbconvert_exporter": "python",
   "pygments_lexer": "ipython3",
   "version": "3.11.6"
  }
 },
 "nbformat": 4,
 "nbformat_minor": 2
}
