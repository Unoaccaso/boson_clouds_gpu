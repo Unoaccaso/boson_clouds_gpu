{
 "cells": [
  {
   "cell_type": "code",
   "execution_count": 1,
   "metadata": {},
   "outputs": [
    {
     "name": "stdout",
     "output_type": "stream",
     "text": [
      "The autoreload extension is already loaded. To reload it, use:\n",
      "  %reload_ext autoreload\n"
     ]
    }
   ],
   "source": [
    "%load_ext autoreload\n",
    "import warnings\n",
    "warnings.filterwarnings('ignore')\n"
   ]
  },
  {
   "cell_type": "code",
   "execution_count": 2,
   "metadata": {},
   "outputs": [
    {
     "name": "stdout",
     "output_type": "stream",
     "text": [
      "gpu_v1.0            :    CPU: 130228.487 us   +/- 8724.676 (min: 119804.540 / max: 155672.712) us     GPU-0: 131783.295 us   +/- 8735.542 (min: 121163.773 / max: 157090.820) us\n"
     ]
    }
   ],
   "source": [
    "# First version\n",
    "%run ./gpu_v1.0/main.py\n",
    "# %timeit %run ./gpu_v1.0/main.py"
   ]
  },
  {
   "cell_type": "code",
   "execution_count": 3,
   "metadata": {},
   "outputs": [
    {
     "name": "stdout",
     "output_type": "stream",
     "text": [
      "gpu_v2.0            :    CPU: 12968.521 us   +/- 2784.628 (min:  9131.274 / max: 27107.863) us     GPU-0: 185960.300 us   +/- 11787.488 (min: 155755.524 / max: 238778.366) us\n"
     ]
    }
   ],
   "source": [
    "# First version\n",
    "%autoreload 2\n",
    "%run ./gpu_v2.0/main.py\n",
    "# timeit %run ./gpu_v2.0/main.py"
   ]
  },
  {
   "cell_type": "code",
   "execution_count": 4,
   "metadata": {},
   "outputs": [
    {
     "name": "stdout",
     "output_type": "stream",
     "text": [
      "gpu_v3.0            :    CPU: 11169.414 us   +/- 2175.527 (min:  7452.129 / max: 18363.811) us     GPU-0: 51755.845 us   +/- 3814.078 (min: 43878.143 / max: 73699.326) us\n"
     ]
    }
   ],
   "source": [
    "# Last revision\n",
    "%run ../../src/boson_cloud_gpu/main.py"
   ]
  }
 ],
 "metadata": {
  "kernelspec": {
   "display_name": "bc-gpu",
   "language": "python",
   "name": "python3"
  },
  "language_info": {
   "codemirror_mode": {
    "name": "ipython",
    "version": 3
   },
   "file_extension": ".py",
   "mimetype": "text/x-python",
   "name": "python",
   "nbconvert_exporter": "python",
   "pygments_lexer": "ipython3",
   "version": "3.11.6"
  }
 },
 "nbformat": 4,
 "nbformat_minor": 2
}
