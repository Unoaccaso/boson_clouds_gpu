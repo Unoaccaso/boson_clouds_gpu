{
 "cells": [
  {
   "cell_type": "code",
   "execution_count": 1,
   "metadata": {},
   "outputs": [
    {
     "name": "stdout",
     "output_type": "stream",
     "text": [
      "The autoreload extension is already loaded. To reload it, use:\n",
      "  %reload_ext autoreload\n"
     ]
    }
   ],
   "source": [
    "%load_ext autoreload\n",
    "import warnings\n",
    "warnings.filterwarnings('ignore')\n"
   ]
  },
  {
   "cell_type": "code",
   "execution_count": 2,
   "metadata": {},
   "outputs": [
    {
     "name": "stdout",
     "output_type": "stream",
     "text": [
      "gpu_v1.0            :    CPU: 121005.049 us   +/- 2091.259 (min: 117633.497 / max: 127402.159) us     GPU-0: 122489.660 us   +/- 2108.669 (min: 119209.984 / max: 128985.092) us\n"
     ]
    }
   ],
   "source": [
    "# First version\n",
    "%run ./gpu_v1.0/main.py\n",
    "# %timeit %run ./gpu_v1.0/main.py"
   ]
  },
  {
   "cell_type": "code",
   "execution_count": 3,
   "metadata": {},
   "outputs": [
    {
     "name": "stdout",
     "output_type": "stream",
     "text": [
      "gpu_v2.0            :    CPU: 13056.817 us   +/- 2904.732 (min:  9080.200 / max: 30390.328) us     GPU-0: 154891.317 us   +/- 12683.329 (min: 145501.022 / max: 267943.726) us\n"
     ]
    }
   ],
   "source": [
    "# First version\n",
    "%autoreload 2\n",
    "%run ./gpu_v2.0/main.py\n",
    "# timeit %run ./gpu_v2.0/main.py"
   ]
  },
  {
   "cell_type": "code",
   "execution_count": 4,
   "metadata": {},
   "outputs": [
    {
     "name": "stdout",
     "output_type": "stream",
     "text": [
      "gpu_v3.0            :    CPU: 10847.645 us   +/- 2154.324 (min:  7331.430 / max: 19606.934) us     GPU-0: 43647.802 us   +/- 2485.727 (min: 39714.817 / max: 55541.504) us\n"
     ]
    }
   ],
   "source": [
    "# Last revision\n",
    "%run ../../src/boson_cloud_gpu/main.py"
   ]
  }
 ],
 "metadata": {
  "kernelspec": {
   "display_name": "bc-gpu",
   "language": "python",
   "name": "python3"
  },
  "language_info": {
   "codemirror_mode": {
    "name": "ipython",
    "version": 3
   },
   "file_extension": ".py",
   "mimetype": "text/x-python",
   "name": "python",
   "nbconvert_exporter": "python",
   "pygments_lexer": "ipython3",
   "version": "3.11.5"
  }
 },
 "nbformat": 4,
 "nbformat_minor": 2
}
